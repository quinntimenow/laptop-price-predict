{
 "cells": [
  {
   "cell_type": "code",
   "execution_count": 28,
   "id": "e451a28e",
   "metadata": {
    "ExecuteTime": {
     "start_time": "2024-02-27T15:37:04.383991Z",
     "end_time": "2024-02-27T15:37:04.616448Z"
    }
   },
   "outputs": [],
   "source": [
    "import pandas as pd\n",
    "from sklearn.model_selection import train_test_split\n",
    "from sklearn.linear_model import LinearRegression\n",
    "from sklearn.metrics import mean_absolute_error, r2_score\n",
    "from sklearn.preprocessing import OneHotEncoder\n",
    "from sklearn.compose import ColumnTransformer\n",
    "from sklearn.pipeline import Pipeline\n",
    "import joblib\n",
    "\n",
    "# Load the dataset\n",
    "data_path = \"C:\\\\Users\\\\Kevin\\\\Desktop\\\\laptop_price.csv\"\n",
    "laptop_data = pd.read_csv(data_path, encoding='ISO-8859-1')\n",
    "\n"
   ]
  },
  {
   "cell_type": "code",
   "execution_count": 29,
   "id": "ad7ce03e",
   "metadata": {
    "ExecuteTime": {
     "start_time": "2024-02-27T15:37:04.425879Z",
     "end_time": "2024-02-27T15:37:04.835546Z"
    }
   },
   "outputs": [
    {
     "name": "stdout",
     "output_type": "stream",
     "text": [
      "laptop_ID             int64\n",
      "Company              object\n",
      "Product              object\n",
      "TypeName             object\n",
      "Inches              float64\n",
      "ScreenResolution     object\n",
      "Cpu                  object\n",
      "Ram                  object\n",
      "Memory               object\n",
      "Gpu                  object\n",
      "OpSys                object\n",
      "Weight               object\n",
      "Price_euros         float64\n",
      "dtype: object\n"
     ]
    }
   ],
   "source": [
    "   \n",
    "# Check the data types of all columns to confirm the type of 'Price_euros'\n",
    "print(laptop_data.dtypes)\n",
    "\n",
    "# Extract the names of the categorical columns for one-hot encoding\n",
    "categorical_cols = laptop_data.select_dtypes(include=['object']).columns.tolist()\n",
    "\n",
    "# Remove the 'Price_euros' column from the list if it's there\n",
    "if 'Price_euros' in categorical_cols:\n",
    "    categorical_cols.remove('Price_euros')\n",
    "\n"
   ]
  },
  {
   "cell_type": "code",
   "execution_count": 30,
   "id": "499ba4ed",
   "metadata": {
    "ExecuteTime": {
     "start_time": "2024-02-27T15:37:04.487240Z",
     "end_time": "2024-02-27T15:37:04.982192Z"
    }
   },
   "outputs": [],
   "source": [
    "# Preprocess the data\n",
    "# Extracting the names of the categorical columns for one-hot encoding\n",
    "#categorical_cols = laptop_data.select_dtypes(include=['object']).columns.tolist()\n",
    "#categorical_cols.remove('Price_euros')  # Assuming 'Price_euros' is the target variable"
   ]
  },
  {
   "cell_type": "code",
   "execution_count": 31,
   "id": "04ed2d1d",
   "metadata": {
    "ExecuteTime": {
     "start_time": "2024-02-27T15:37:04.583536Z",
     "end_time": "2024-02-27T15:37:05.314868Z"
    }
   },
   "outputs": [],
   "source": [
    "# Define the categorical transformer with OneHotEncoder\n",
    "categorical_transformer = Pipeline(steps=[\n",
    "    ('onehot', OneHotEncoder(handle_unknown='ignore'))\n",
    "])\n"
   ]
  },
  {
   "cell_type": "code",
   "execution_count": 32,
   "id": "22e88530",
   "metadata": {
    "ExecuteTime": {
     "start_time": "2024-02-27T15:37:04.819589Z",
     "end_time": "2024-02-27T15:37:05.682390Z"
    }
   },
   "outputs": [],
   "source": [
    "# Create the column transformer to transform categorical columns\n",
    "preprocessor = ColumnTransformer(\n",
    "    transformers=[\n",
    "        ('cat', categorical_transformer, categorical_cols)\n",
    "    ],\n",
    "    remainder='passthrough'\n",
    ")"
   ]
  },
  {
   "cell_type": "code",
   "execution_count": 33,
   "id": "22b37a1d",
   "metadata": {
    "ExecuteTime": {
     "start_time": "2024-02-27T15:37:05.464931Z",
     "end_time": "2024-02-27T15:37:05.760699Z"
    }
   },
   "outputs": [],
   "source": [
    "# Split the data into features and target\n",
    "X = laptop_data.drop('Price_euros', axis=1)\n",
    "y = laptop_data['Price_euros']\n",
    "\n",
    "# Split the data into training and testing sets\n",
    "X_train, X_test, y_train, y_test = train_test_split(X, y, test_size=0.2, random_state=42)\n"
   ]
  },
  {
   "cell_type": "code",
   "execution_count": 34,
   "id": "13d43f40",
   "metadata": {
    "ExecuteTime": {
     "start_time": "2024-02-27T15:37:05.465929Z",
     "end_time": "2024-02-27T15:37:06.363232Z"
    }
   },
   "outputs": [
    {
     "name": "stdout",
     "output_type": "stream",
     "text": [
      "R² score: 0.7958079521914924\n",
      "Mean Absolute Error: 213.9498524031765\n"
     ]
    }
   ],
   "source": [
    "# Create a pipeline that processes the data and then fits the model\n",
    "pipeline = Pipeline(steps=[('preprocessor', preprocessor),\n",
    "                           ('regressor', LinearRegression())])\n",
    "\n",
    "# Train the linear regression model\n",
    "pipeline.fit(X_train, y_train)\n",
    "\n",
    "# Predict on the test set\n",
    "y_pred = pipeline.predict(X_test)\n",
    "\n",
    "# Evaluate the model's performance\n",
    "r2 = r2_score(y_test, y_pred)\n",
    "mae = mean_absolute_error(y_test, y_pred)\n",
    "\n",
    "# Print out the scores\n",
    "print(f'R² score: {r2}')\n",
    "print(f'Mean Absolute Error: {mae}')"
   ]
  },
  {
   "cell_type": "code",
   "execution_count": 35,
   "id": "afd2fbe2",
   "metadata": {
    "ExecuteTime": {
     "start_time": "2024-02-27T15:37:06.341777Z",
     "end_time": "2024-02-27T15:37:06.517604Z"
    }
   },
   "outputs": [
    {
     "data": {
      "text/plain": "['laptop_price_prediction_model.joblib']"
     },
     "execution_count": 35,
     "metadata": {},
     "output_type": "execute_result"
    }
   ],
   "source": [
    "# Save the pipeline model for future use with Streamlit\n",
    "joblib.dump(pipeline, 'laptop_price_prediction_model.joblib')\n"
   ]
  },
  {
   "cell_type": "code",
   "execution_count": 37,
   "id": "e89da59d",
   "metadata": {
    "ExecuteTime": {
     "start_time": "2024-02-27T15:37:29.802870Z",
     "end_time": "2024-02-27T15:37:29.907616Z"
    }
   },
   "outputs": [],
   "source": [
    "import streamlit as st\n",
    "import pandas as pd\n",
    "import joblib\n",
    "\n",
    "# Function to load the trained model\n",
    "def load_model():\n",
    "    model_path = 'laptop_price_prediction_model.joblib'\n",
    "    model = joblib.load(model_path)\n",
    "    return model\n",
    "\n",
    "model = load_model()\n",
    "\n",
    "def main():\n",
    "    st.title('Laptop Price Predictor')\n",
    "\n",
    "    # User inputs for available features\n",
    "    brand = st.selectbox('Brand', ['Apple', 'Dell', 'Lenovo', 'HP', 'Asus'])\n",
    "    processor_type = st.selectbox('Processor Type', ['Intel Core i7', 'Intel Core i5', 'AMD Ryzen'])\n",
    "    ram = st.selectbox('RAM', ['8GB', '16GB', '32GB'])\n",
    "    storage = st.selectbox('Storage', ['256GB SSD', '512GB SSD', '1TB HDD'])\n",
    "    screen_size = st.selectbox('Screen Size', ['13\"', '15\"', '17\"'])\n",
    "\n",
    "    # Placeholder values for other required features not collected from the user\n",
    "    placeholders = {\n",
    "        'TypeName': 'Ultrabook',  # Example placeholder\n",
    "        'Company': brand,  # Dynamically use the brand as company\n",
    "        'Cpu': processor_type,  # Use processor type for CPU\n",
    "        'Weight': '1.5',  # Example weight\n",
    "        'laptop_ID': 1,  # Example laptop ID\n",
    "        'OpSys': 'Windows',  # Operating system\n",
    "        'Inches': float(screen_size.strip('\"')),  # Convert screen size to float\n",
    "        'Ram': ram,  # Use user input for RAM\n",
    "        'Memory': storage,  # Use storage as memory\n",
    "        'Product': 'Generic Model',  # Example product model\n",
    "        'Gpu': 'Integrated',  # Example GPU\n",
    "        'ScreenResolution': '1920x1080'  # Example screen resolution\n",
    "    }\n",
    "\n",
    "    # Convert placeholders into DataFrame for prediction\n",
    "    input_df = pd.DataFrame([placeholders])\n",
    "\n",
    "    if st.button('Predict Price'):\n",
    "        # Make prediction\n",
    "        predicted_price = model.predict(input_df)[0]\n",
    "\n",
    "        # Display prediction\n",
    "        st.success(f'Predicted Laptop Price: ${predicted_price:.2f}')\n",
    "\n",
    "if __name__ == '__main__':\n",
    "    main()\n",
    "\n",
    "#streamlit run laptop_price_predict.py\n"
   ]
  },
  {
   "cell_type": "code",
   "execution_count": null,
   "outputs": [],
   "source": [],
   "metadata": {
    "collapsed": false
   }
  }
 ],
 "metadata": {
  "kernelspec": {
   "display_name": "Python 3 (ipykernel)",
   "language": "python",
   "name": "python3"
  },
  "language_info": {
   "codemirror_mode": {
    "name": "ipython",
    "version": 3
   },
   "file_extension": ".py",
   "mimetype": "text/x-python",
   "name": "python",
   "nbconvert_exporter": "python",
   "pygments_lexer": "ipython3",
   "version": "3.10.9"
  }
 },
 "nbformat": 4,
 "nbformat_minor": 5
}
